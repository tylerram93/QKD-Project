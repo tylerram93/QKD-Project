{
 "cells": [
  {
   "cell_type": "code",
   "execution_count": 1,
   "id": "3fa38652",
   "metadata": {},
   "outputs": [],
   "source": [
    "import numpy as np\n",
    "from qiskit.visualization import array_to_latex\n",
    "from qiskit import QuantumCircuit, transpile, assemble, Aer\n",
    "from qiskit import QuantumRegister, ClassicalRegister\n",
    "from qiskit.visualization import plot_histogram\n",
    "from numpy.random import randint\n",
    "from qiskit import QuantumCircuit, Aer, transpile, assemble\n",
    "from qiskit.visualization import plot_histogram, plot_bloch_multivector\n",
    "import pandas as pd\n",
    "import qiskit.quantum_info as qi"
   ]
  },
  {
   "cell_type": "code",
   "execution_count": 2,
   "id": "3082cde5",
   "metadata": {},
   "outputs": [],
   "source": [
    "#Step one is to create an array of bits to send to Bob\n",
    "def create_alice_bits(n):\n",
    "    bits = randint(2, size=n)\n",
    "    return bits\n",
    "\n",
    "#Then we make another array of the same length to create the basis states for alice to encode the message\n",
    "#Step one is to create an array of bits to send to Bob\n",
    "def create_alice_bases(n):\n",
    "    bases = randint(2, size=n)\n",
    "    return bases\n",
    "\n",
    "def create_bob_bases(n):\n",
    "    bases = randint(2, size=n)\n",
    "    return bases\n",
    "\n",
    "def create_eve_bases(n):\n",
    "    bases = randint(2, size=n)\n",
    "    return bases"
   ]
  },
  {
   "cell_type": "code",
   "execution_count": 10,
   "id": "c7faae59",
   "metadata": {},
   "outputs": [],
   "source": [
    "#This function will create a quantum circuit that produces the |00> |01> |10> or |11> configuration\n",
    "def create_message(n,bits,bases):\n",
    "    qc_out = []\n",
    "    if len(bits)==len(bases):\n",
    "        for i in range(n):\n",
    "            #create basis vectors\n",
    "            qc = QuantumCircuit(1,1) #need to update this for noise model\n",
    "            if bases[i] == 0:\n",
    "                if bits[i] == 0:\n",
    "                    pass\n",
    "                else:\n",
    "                    qc.x(0)\n",
    "            else:\n",
    "                if bits[i] == 0:\n",
    "                    qc.h(0)\n",
    "                else:\n",
    "                    qc.x(0)\n",
    "                    qc.h(0)\n",
    "                    \n",
    "            encode_vec = qi.Statevector.from_instruction(qc)\n",
    "            qc.barrier()\n",
    "            qc_out.append(qc)\n",
    "            qc.draw()\n",
    "    else:\n",
    "        print(\"Bits and basis vectors are unequal\")\n",
    "    return    qc_out"
   ]
  },
  {
   "cell_type": "code",
   "execution_count": 26,
   "id": "795dd3e6",
   "metadata": {},
   "outputs": [],
   "source": [
    "def measure_message(n,bases, qc):\n",
    "    \n",
    "    measurements = []\n",
    "    for i in range(n):\n",
    "        \n",
    "        if bases[i] == 0:\n",
    "            #Measure in z basis\n",
    "            qc[i].measure(0,0)\n",
    "        else:\n",
    "            #Measure in x basis\n",
    "            qc[i].h(0)\n",
    "            qc[i].measure(0,0)\n",
    "            \n",
    "        aer_sim = Aer.get_backend('aer_simulator')\n",
    "        qobj = assemble(qc[i], shots=1, memory=True)\n",
    "        result = aer_sim.run(qobj).result()\n",
    "        measured_bit = int(result.get_memory()[0])\n",
    "        measurements.append(measured_bit)\n",
    "        \n",
    "    return measurements"
   ]
  },
  {
   "cell_type": "code",
   "execution_count": 27,
   "id": "51796ca1",
   "metadata": {},
   "outputs": [],
   "source": [
    "def public_key(n):\n",
    "      \n",
    "    #Create bits and bases\n",
    "    a_bits =  create_alice_bits(n)\n",
    "    a_bases = create_alice_bases(n)\n",
    "    b_bases = create_bob_bases(n)\n",
    "    e_bases = create_eve_bases(n) \n",
    "    \n",
    "    #process to get public key\n",
    "    alice_message = create_message(n,a_bits,a_bases)\n",
    "    bobs_message = measure_message(n,b_bases,alice_message)\n",
    "     \n",
    "    return bobs_message, a_bits, a_bases, b_bases, e_bases"
   ]
  },
  {
   "cell_type": "code",
   "execution_count": 28,
   "id": "14d164b3",
   "metadata": {},
   "outputs": [],
   "source": [
    "def intercepted_key(n):\n",
    "      \n",
    "    #Create bits and bases\n",
    "    a_bits =  create_alice_bits(n)\n",
    "    a_bases = create_alice_bases(n)\n",
    "    b_bases = create_bob_bases(n)\n",
    "    e_bases = create_eve_bases(n) \n",
    "    \n",
    "    #process to get public key\n",
    "    alice_message = create_message(n,a_bits,a_bases)\n",
    "    #Eve present\n",
    "    eve_message = measure_message(n,e_bases,alice_message)\n",
    "    bobs_message = measure_message(n,b_bases,alice_message)\n",
    "     \n",
    "    return bobs_message, a_bits, a_bases, b_bases, e_bases"
   ]
  },
  {
   "cell_type": "code",
   "execution_count": 29,
   "id": "cfe07680",
   "metadata": {},
   "outputs": [],
   "source": [
    "def filter_bits(n, bits,bases1,bases2):\n",
    "\n",
    "    filtered_bits = []\n",
    "    #filter all the bits for the message and see if they line up\n",
    "    for i in range(n):\n",
    "        if bases1[i] == bases2[i]:\n",
    "            filtered_bits.append(bits[i])\n",
    "        else:\n",
    "            pass\n",
    "        \n",
    "    return  filtered_bits"
   ]
  },
  {
   "cell_type": "code",
   "execution_count": 30,
   "id": "f0a6865c",
   "metadata": {},
   "outputs": [],
   "source": [
    "def get_key(n,eve_present):\n",
    "    \n",
    "    n=n\n",
    "    eve_present=eve_present\n",
    "    \n",
    "    if eve_present==0:\n",
    "        key = public_key(n=n)\n",
    "    else:\n",
    "        key = intercepted_key(n=n)\n",
    "        print(\"oh nooooooooooo, my key has been taken\")\n",
    "\n",
    "    b_mess  = key[0]\n",
    "    a_bits  = key[1]\n",
    "    a_bases = key[2]\n",
    "    b_bases = key[3]\n",
    "    e_bases = key[4]\n",
    "\n",
    "    print(\"bobs measurement is\" ,b_mess)\n",
    "    print(\"alices bits are    \" ,a_bits)\n",
    "    print(\"alices bases are   \" ,a_bases)\n",
    "    print(\"bobs bases are     \" ,b_bases)\n",
    "    print(\"eves bases are     \" ,e_bases)\n",
    "\n",
    "    alices_bits = filter_bits(n,a_bits,a_bases,b_bases)\n",
    "    bobs_bits   = filter_bits(n,b_mess,a_bases,b_bases)\n",
    "\n",
    "    print(\"alices key is      \", alices_bits)\n",
    "    print(\"bobs key is        \", bobs_bits)\n",
    "    matched_key = []\n",
    "    \n",
    "    for i in range(len(alices_bits)):\n",
    "        if alices_bits[i]==bobs_bits[i]:\n",
    "            matched_key.append(alices_bits[i])\n",
    "    print(\"matched key is\", matched_key)\n",
    "    \n",
    "    percent_of_matched_bits = len(matched_key)/len(alices_bits)*100\n",
    "    print(\"percent of matched bits is =\",percent_of_matched_bits)"
   ]
  },
  {
   "cell_type": "code",
   "execution_count": 32,
   "id": "6b5e5fba",
   "metadata": {},
   "outputs": [
    {
     "name": "stdout",
     "output_type": "stream",
     "text": [
      "10\n",
      "1\n",
      "oh nooooooooooo, my key has been taken\n",
      "bobs measurement is [1, 0, 1, 0, 1, 1, 1, 1, 1, 1]\n",
      "alices bits are     [1 1 1 0 1 1 1 1 1 0]\n",
      "alices bases are    [1 0 0 0 0 1 1 1 1 1]\n",
      "bobs bases are      [0 1 1 0 1 1 1 1 0 1]\n",
      "eves bases are      [1 1 0 1 1 0 1 0 0 0]\n",
      "alices key is       [0, 1, 1, 1, 0]\n",
      "bobs key is         [0, 1, 1, 1, 1]\n",
      "matched key is [0, 1, 1, 1]\n",
      "percent of matched bits is = 80.0\n"
     ]
    }
   ],
   "source": [
    "get_key(int(input()), int(input()))"
   ]
  },
  {
   "cell_type": "code",
   "execution_count": null,
   "id": "31326a75",
   "metadata": {},
   "outputs": [],
   "source": []
  }
 ],
 "metadata": {
  "kernelspec": {
   "display_name": "Python 3 (ipykernel)",
   "language": "python",
   "name": "python3"
  },
  "language_info": {
   "codemirror_mode": {
    "name": "ipython",
    "version": 3
   },
   "file_extension": ".py",
   "mimetype": "text/x-python",
   "name": "python",
   "nbconvert_exporter": "python",
   "pygments_lexer": "ipython3",
   "version": "3.10.4"
  }
 },
 "nbformat": 4,
 "nbformat_minor": 5
}
