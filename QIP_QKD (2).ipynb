{
 "cells": [
  {
   "cell_type": "code",
   "execution_count": 1,
   "id": "3fa38652",
   "metadata": {},
   "outputs": [],
   "source": [
    "import numpy as np\n",
    "from qiskit.visualization import array_to_latex\n",
    "from qiskit import QuantumCircuit, transpile, assemble, Aer\n",
    "from qiskit import QuantumRegister, ClassicalRegister\n",
    "from qiskit.visualization import plot_histogram\n",
    "from numpy.random import randint\n",
    "from qiskit import QuantumCircuit, Aer, transpile, assemble\n",
    "from qiskit.visualization import plot_histogram, plot_bloch_multivector\n",
    "import pandas as pd\n",
    "import qiskit.quantum_info as qi"
   ]
  },
  {
   "cell_type": "code",
   "execution_count": 2,
   "id": "3082cde5",
   "metadata": {},
   "outputs": [],
   "source": [
    "#Step one is to create an array of bits to send to Bob\n",
    "def create_alice_bits(n):\n",
    "    bits = randint(2, size=n)\n",
    "    return bits\n",
    "\n",
    "#Then we make another array of the same length to create the basis states for alice to encode the message\n",
    "#Step one is to create an array of bits to send to Bob\n",
    "def create_alice_bases(n):\n",
    "    bases = randint(2, size=n)\n",
    "    return bases\n",
    "\n",
    "#Step one is to create an array of bits to send to Bob\n",
    "def create_bob_bits(n):\n",
    "    bits = randint(2, size=n)\n",
    "    return bits\n",
    "\n",
    "def create_bob_bases(n):\n",
    "    bases = randint(2, size=n)\n",
    "    return bases\n",
    "\n",
    "#Step one is to create an array of bits to send to Bob\n",
    "def create_eve_bits(n):\n",
    "    bits = randint(2, size=n)\n",
    "    return bits\n",
    "\n",
    "def create_eve_bases(n):\n",
    "    bases = randint(2, size=n)\n",
    "    return bases"
   ]
  },
  {
   "cell_type": "code",
   "execution_count": 3,
   "id": "c7faae59",
   "metadata": {},
   "outputs": [],
   "source": [
    "#This function will create a quantum circuit that produces the |00> |01> |10> or |11> configuration\n",
    "\n",
    "def create_message(bits,bases):\n",
    "    qc_out = []\n",
    "    if len(bits)==len(bases):\n",
    "        for i in range(len(bases)):\n",
    "            #create basis vectors\n",
    "            qc = QuantumCircuit(1,1) #need to update this for noise model\n",
    "            if bases[i] == 0:\n",
    "                if bits[i] == 0:\n",
    "                    pass\n",
    "                else:\n",
    "                    qc.x(0)\n",
    "            else:\n",
    "                if bits[i] == 0:\n",
    "                    qc.h(0)\n",
    "                else:\n",
    "                    qc.x(0)\n",
    "                    qc.h(0)\n",
    "                    \n",
    "            encode_vec = qi.Statevector.from_instruction(qc)\n",
    "            qc_out.append(qc)\n",
    "    else:\n",
    "        printf(\"Bits and basis vectors are unequal\")\n",
    "    return    qc, qc_out, encode_vec"
   ]
  },
  {
   "cell_type": "code",
   "execution_count": 4,
   "id": "40975059",
   "metadata": {},
   "outputs": [],
   "source": [
    "def encode_message(bits, bases):\n",
    "    \n",
    "    #encode bits and basis and qc\n",
    "    bits_out    = []\n",
    "    bases_out   = []\n",
    "    encode_out  = []\n",
    "\n",
    "    #check bits and basis size\n",
    "    bits_out.append(bits)\n",
    "    bases_out.append(bases)\n",
    "    qc = create_message(bits,bases)[0]\n",
    "    vec = create_message(bits,bases)[2]\n",
    "    encode_out.append(qc)\n",
    "        \n",
    "    return qc, vec"
   ]
  },
  {
   "cell_type": "code",
   "execution_count": 19,
   "id": "785ec9ad",
   "metadata": {},
   "outputs": [],
   "source": [
    "def measure_message(bits,bases, qc):\n",
    "    qc_out2 = []\n",
    "    for i in range(len(bases)):\n",
    "        if bases[i] == 0:\n",
    "            #Measure in z basis\n",
    "            qc.measure(0,0)\n",
    "            qc.barrier()\n",
    "            qc.draw()\n",
    "            qc_out2.append(qc)\n",
    "        else:\n",
    "            #Measure in x basis\n",
    "            qc.measure(0,0)\n",
    "            qc.barrier()\n",
    "            qc.draw()\n",
    "            qc_out2.append(qc)\n",
    "    return qc"
   ]
  },
  {
   "cell_type": "code",
   "execution_count": 32,
   "id": "f5861207",
   "metadata": {},
   "outputs": [],
   "source": [
    "def read_message(bits,bases):\n",
    "    alices_message = []\n",
    "    bobs_message = []\n",
    "    #Encode the bits and bases\n",
    "    qc_out = encode_message(bits,bases)[0]\n",
    "    vec_out = encode_message(bits,bases)[1]\n",
    "    #Measure alice state\n",
    "    message = measure_message(bits,bases,qc_out)\n",
    "    #print(vec_out)\n",
    "    return message, bits\n"
   ]
  },
  {
   "cell_type": "code",
   "execution_count": 45,
   "id": "51796ca1",
   "metadata": {},
   "outputs": [
    {
     "name": "stdout",
     "output_type": "stream",
     "text": [
      "2\n",
      "[array([1, 0])]\n",
      "Bases are not equal between Alice and Bob\n",
      "Bases are not equal between Alice and Bob\n",
      "[array([1, 0]), array([0, 0])]\n"
     ]
    }
   ],
   "source": [
    "#Input length of string\n",
    "n = int(input())\n",
    "#Create bits and bases\n",
    "create_alice_bits(n)\n",
    "create_alice_bases(n)\n",
    "create_bob_bases(n)\n",
    "bobs_filtered_bits = []\n",
    "alices_message = read_message(create_alice_bits(n),create_alice_bases(n))[1]\n",
    "if len(create_alice_bases(n)) == len(create_bob_bases(n)):\n",
    "    for i in range(len(create_alice_bases(n))):\n",
    "        for y in range(len(create_bob_bases(n))):\n",
    "            if i == y:\n",
    "                bobs_message = read_message(create_alice_bits(n),create_bob_bases(n))[1]\n",
    "                bobs_filtered_bits.append(bobs_message)\n",
    "                print(bobs_filtered_bits)\n",
    "            else:\n",
    "                print(\"Bases are not equal between Alice and Bob\")"
   ]
  },
  {
   "cell_type": "code",
   "execution_count": null,
   "id": "0e4fe837",
   "metadata": {},
   "outputs": [],
   "source": [
    "main()"
   ]
  },
  {
   "cell_type": "code",
   "execution_count": null,
   "id": "b2834f75",
   "metadata": {},
   "outputs": [],
   "source": [
    "#https://www.khanacademy.org/computing/computer-programming/html-css/web-development-tools/a/hosting-your-website-on-github\n",
    "\n",
    "https://docs.nvidia.com/cuda/wsl-user-guide/index.html\n",
    "    \n",
    "    \n",
    "#gate errors for our circuit can be applied to the the construction of our gates, fake x or H noisy\n",
    "#doing a series of measurements should give different pure or mixeed states\n",
    "\n",
    "#noise for just alice \n",
    "#noise for bob\n",
    "#noise for alice and bob\n",
    "#noise for eve\n",
    "#noise for all"
   ]
  }
 ],
 "metadata": {
  "kernelspec": {
   "display_name": "Python 3 (ipykernel)",
   "language": "python",
   "name": "python3"
  },
  "language_info": {
   "codemirror_mode": {
    "name": "ipython",
    "version": 3
   },
   "file_extension": ".py",
   "mimetype": "text/x-python",
   "name": "python",
   "nbconvert_exporter": "python",
   "pygments_lexer": "ipython3",
   "version": "3.10.4"
  }
 },
 "nbformat": 4,
 "nbformat_minor": 5
}
